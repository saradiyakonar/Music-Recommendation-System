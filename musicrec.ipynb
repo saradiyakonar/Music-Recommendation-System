{
 "cells": [
  {
   "cell_type": "code",
   "execution_count": 2,
   "id": "e1c601c0",
   "metadata": {},
   "outputs": [],
   "source": [
    "import numpy as np \n",
    "import pandas as pd"
   ]
  },
  {
   "cell_type": "code",
   "execution_count": 3,
   "id": "f7f4c700",
   "metadata": {},
   "outputs": [
    {
     "data": {
      "text/html": [
       "<div>\n",
       "<style scoped>\n",
       "    .dataframe tbody tr th:only-of-type {\n",
       "        vertical-align: middle;\n",
       "    }\n",
       "\n",
       "    .dataframe tbody tr th {\n",
       "        vertical-align: top;\n",
       "    }\n",
       "\n",
       "    .dataframe thead th {\n",
       "        text-align: right;\n",
       "    }\n",
       "</style>\n",
       "<table border=\"1\" class=\"dataframe\">\n",
       "  <thead>\n",
       "    <tr style=\"text-align: right;\">\n",
       "      <th></th>\n",
       "      <th>artist</th>\n",
       "      <th>song</th>\n",
       "      <th>link</th>\n",
       "      <th>text</th>\n",
       "    </tr>\n",
       "  </thead>\n",
       "  <tbody>\n",
       "    <tr>\n",
       "      <th>0</th>\n",
       "      <td>ABBA</td>\n",
       "      <td>Ahe's My Kind Of Girl</td>\n",
       "      <td>/a/abba/ahes+my+kind+of+girl_20598417.html</td>\n",
       "      <td>Look at her face, it's a wonderful face  \\nAnd...</td>\n",
       "    </tr>\n",
       "    <tr>\n",
       "      <th>1</th>\n",
       "      <td>ABBA</td>\n",
       "      <td>Andante, Andante</td>\n",
       "      <td>/a/abba/andante+andante_20002708.html</td>\n",
       "      <td>Take it easy with me, please  \\nTouch me gentl...</td>\n",
       "    </tr>\n",
       "    <tr>\n",
       "      <th>2</th>\n",
       "      <td>ABBA</td>\n",
       "      <td>As Good As New</td>\n",
       "      <td>/a/abba/as+good+as+new_20003033.html</td>\n",
       "      <td>I'll never know why I had to go  \\nWhy I had t...</td>\n",
       "    </tr>\n",
       "    <tr>\n",
       "      <th>3</th>\n",
       "      <td>ABBA</td>\n",
       "      <td>Bang</td>\n",
       "      <td>/a/abba/bang_20598415.html</td>\n",
       "      <td>Making somebody happy is a question of give an...</td>\n",
       "    </tr>\n",
       "    <tr>\n",
       "      <th>4</th>\n",
       "      <td>ABBA</td>\n",
       "      <td>Bang-A-Boomerang</td>\n",
       "      <td>/a/abba/bang+a+boomerang_20002668.html</td>\n",
       "      <td>Making somebody happy is a question of give an...</td>\n",
       "    </tr>\n",
       "  </tbody>\n",
       "</table>\n",
       "</div>"
      ],
      "text/plain": [
       "  artist                   song                                        link  \\\n",
       "0   ABBA  Ahe's My Kind Of Girl  /a/abba/ahes+my+kind+of+girl_20598417.html   \n",
       "1   ABBA       Andante, Andante       /a/abba/andante+andante_20002708.html   \n",
       "2   ABBA         As Good As New        /a/abba/as+good+as+new_20003033.html   \n",
       "3   ABBA                   Bang                  /a/abba/bang_20598415.html   \n",
       "4   ABBA       Bang-A-Boomerang      /a/abba/bang+a+boomerang_20002668.html   \n",
       "\n",
       "                                                text  \n",
       "0  Look at her face, it's a wonderful face  \\nAnd...  \n",
       "1  Take it easy with me, please  \\nTouch me gentl...  \n",
       "2  I'll never know why I had to go  \\nWhy I had t...  \n",
       "3  Making somebody happy is a question of give an...  \n",
       "4  Making somebody happy is a question of give an...  "
      ]
     },
     "execution_count": 3,
     "metadata": {},
     "output_type": "execute_result"
    }
   ],
   "source": [
    "df = pd.read_csv(\"./songrec/songdata.csv\")\n",
    "df.head()"
   ]
  },
  {
   "cell_type": "code",
   "execution_count": 4,
   "id": "31913484",
   "metadata": {},
   "outputs": [
    {
     "data": {
      "text/plain": [
       "(57650, 4)"
      ]
     },
     "execution_count": 4,
     "metadata": {},
     "output_type": "execute_result"
    }
   ],
   "source": [
    "df.shape"
   ]
  },
  {
   "cell_type": "code",
   "execution_count": 5,
   "id": "b508e5bc",
   "metadata": {},
   "outputs": [],
   "source": [
    "df=df.sample(n=5000).drop('link', axis=1).reset_index(drop=True)"
   ]
  },
  {
   "cell_type": "code",
   "execution_count": 6,
   "id": "780fec51",
   "metadata": {},
   "outputs": [
    {
     "data": {
      "text/plain": [
       "0                     Hollies\n",
       "1                    Hillsong\n",
       "2                     Roxette\n",
       "3       Indiana Bible College\n",
       "4                    Iggy Pop\n",
       "                ...          \n",
       "4995            Conway Twitty\n",
       "4996              Johnny Cash\n",
       "4997           Counting Crows\n",
       "4998               Elton John\n",
       "4999                Metallica\n",
       "Name: artist, Length: 5000, dtype: object"
      ]
     },
     "execution_count": 6,
     "metadata": {},
     "output_type": "execute_result"
    }
   ],
   "source": [
    "df['artist']"
   ]
  },
  {
   "cell_type": "code",
   "execution_count": 7,
   "id": "56594618",
   "metadata": {},
   "outputs": [
    {
     "data": {
      "text/plain": [
       "'Boys In The Band'"
      ]
     },
     "execution_count": 7,
     "metadata": {},
     "output_type": "execute_result"
    }
   ],
   "source": [
    "df['song'][0]"
   ]
  },
  {
   "cell_type": "code",
   "execution_count": 8,
   "id": "bce1ee6c",
   "metadata": {},
   "outputs": [
    {
     "data": {
      "text/plain": [
       "\"With Mr Soul or King Creole  \\nYou gotta go with the man in the band  \\nHe'll be your guide  \\nSinging la la la la  \\nBut what makes Mr Politic  \\nA lot of words another trick  \\nTurn peace into war  \\nSinging ha ha ha ha  \\n  \\nOoh it's not the way we want it  \\nNot the way at all  \\nNot the way to change our minds  \\nOur backs up against the wall  \\nThe boys in the band all live in harmony  \\nFor life's a poem  \\nAnd we can make it rhyme  \\nThe boys in the band all live in harmony  \\nLet's get it together before we  \\nGo down, down, down  \\nI don't want to theorise it  \\nJust hope people realise  \\nThe simple melody can free your soul  \\nAnd let you be man what you are  \\nAnd fly la la la  \\nBut every back street slum where  \\nPushers push and hookers hook  \\nJust won't set you free with ha ha ha ha  \\nOooh it's not the way we want it  \\nNot the way at all  \\nNot the way to change our minds  \\nOur backs up against the wall  \\nThe boys in the band all live in harmony  \\nFor life's a poem  \\nAnd we can make it rhyme  \\nThe boys in the band all live in harmony  \\nLet's get it together before we  \\nGo down, down, down  \\nBreak  \\nThe boys in the band all live in harmony  \\nThe boys in the band all live in harmony  \\nOooh it's not the way we want it  \\nNot the way at all  \\nNot the way to change our minds  \\nOur backs up against the wall  \\nThe boys in the band all live in harmony  \\nThe boys in the band all live in harmony  \\nThe boys in the band all live in harmony  \\nThe boys in the band all live in harmony  \\nThe boys in the band all live in harmony  \\nThe boys in the band all live in harmony  \\n\\n\""
      ]
     },
     "execution_count": 8,
     "metadata": {},
     "output_type": "execute_result"
    }
   ],
   "source": [
    "df['text'][0]"
   ]
  },
  {
   "cell_type": "code",
   "execution_count": 9,
   "id": "2c522d36",
   "metadata": {},
   "outputs": [],
   "source": [
    "df['text']=df['text'].str.lower().replace(r'[^\\w\\s]', '').replace(r'\\n',' ',regex=True)"
   ]
  },
  {
   "cell_type": "code",
   "execution_count": 10,
   "id": "26740430",
   "metadata": {},
   "outputs": [
    {
     "data": {
      "text/plain": [
       "\"with mr soul or king creole   you gotta go with the man in the band   he'll be your guide   singing la la la la   but what makes mr politic   a lot of words another trick   turn peace into war   singing ha ha ha ha      ooh it's not the way we want it   not the way at all   not the way to change our minds   our backs up against the wall   the boys in the band all live in harmony   for life's a poem   and we can make it rhyme   the boys in the band all live in harmony   let's get it together before we   go down, down, down   i don't want to theorise it   just hope people realise   the simple melody can free your soul   and let you be man what you are   and fly la la la   but every back street slum where   pushers push and hookers hook   just won't set you free with ha ha ha ha   oooh it's not the way we want it   not the way at all   not the way to change our minds   our backs up against the wall   the boys in the band all live in harmony   for life's a poem   and we can make it rhyme   the boys in the band all live in harmony   let's get it together before we   go down, down, down   break   the boys in the band all live in harmony   the boys in the band all live in harmony   oooh it's not the way we want it   not the way at all   not the way to change our minds   our backs up against the wall   the boys in the band all live in harmony   the boys in the band all live in harmony   the boys in the band all live in harmony   the boys in the band all live in harmony   the boys in the band all live in harmony   the boys in the band all live in harmony    \""
      ]
     },
     "execution_count": 10,
     "metadata": {},
     "output_type": "execute_result"
    }
   ],
   "source": [
    "df['text'][0]"
   ]
  },
  {
   "cell_type": "code",
   "execution_count": 11,
   "id": "5b9bdf8a",
   "metadata": {},
   "outputs": [
    {
     "data": {
      "text/plain": [
       "0       with mr soul or king creole   you gotta go wit...\n",
       "1       anchor   i have this hope   as an anchor for m...\n",
       "2       she knows i'd do anything she wants me to,   t...\n",
       "3       chorus   (sopranos)   he reigns   let all eart...\n",
       "4       watching the news   the plot you already know ...\n",
       "                              ...                        \n",
       "4995    before you take another step   there's somethi...\n",
       "4996    six foot six he stood on the ground,   he weig...\n",
       "4997    original by the ramones      twenty-twenty-twe...\n",
       "4998    t seems as though i've lived my life   on the ...\n",
       "4999    down in the depths of my fiery home   the summ...\n",
       "Name: text, Length: 5000, dtype: object"
      ]
     },
     "execution_count": 11,
     "metadata": {},
     "output_type": "execute_result"
    }
   ],
   "source": [
    "df['text']"
   ]
  },
  {
   "cell_type": "code",
   "execution_count": null,
   "id": "fea04f74",
   "metadata": {},
   "outputs": [],
   "source": [
    "import spacy\n",
    "\n",
    "nlp = spacy.load(\"en_core_web_sm\")\n",
    "\n",
    "def tokenisation(txt):\n",
    "    doc = nlp(txt)\n",
    "    stemming = [token.lemma_ for token in doc]\n",
    "    return \" \".join(stemming)\n",
    "\n"
   ]
  },
  {
   "cell_type": "code",
   "execution_count": 13,
   "id": "3233277f",
   "metadata": {},
   "outputs": [],
   "source": [
    "df['text'] = df['text'].apply(lambda x: tokenisation(x))"
   ]
  },
  {
   "cell_type": "code",
   "execution_count": 14,
   "id": "01eb5fbb",
   "metadata": {},
   "outputs": [],
   "source": [
    "from sklearn.feature_extraction.text import TfidfVectorizer\n",
    "from sklearn.metrics.pairwise import cosine_similarity"
   ]
  },
  {
   "cell_type": "code",
   "execution_count": 15,
   "id": "d598cd60",
   "metadata": {},
   "outputs": [],
   "source": [
    "tfidvector = TfidfVectorizer(analyzer='word', stop_words='english')\n",
    "matrix = tfidvector.fit_transform(df['text'])\n",
    "similarity = cosine_similarity(matrix)"
   ]
  },
  {
   "cell_type": "code",
   "execution_count": 16,
   "id": "9723833e",
   "metadata": {},
   "outputs": [
    {
     "data": {
      "text/plain": [
       "array([1.        , 0.02465926, 0.01997787, ..., 0.00153778, 0.07130997,\n",
       "       0.03264626], shape=(5000,))"
      ]
     },
     "execution_count": 16,
     "metadata": {},
     "output_type": "execute_result"
    }
   ],
   "source": [
    "similarity[0]"
   ]
  },
  {
   "cell_type": "code",
   "execution_count": 22,
   "id": "d99e00f5",
   "metadata": {},
   "outputs": [],
   "source": [
    "def recommendation(song_df):\n",
    "    idx = df[df['song'] == song_df].index[0]\n",
    "    distances = sorted(list(enumerate(similarity[idx])),reverse=True,key=lambda x:x[1])\n",
    "    \n",
    "    songs = []\n",
    "    for m_id in distances[1:21]:\n",
    "        songs.append(df.iloc[m_id[0]].song)\n",
    "        \n",
    "    return songs"
   ]
  },
  {
   "cell_type": "code",
   "execution_count": 26,
   "id": "52c8ae63",
   "metadata": {},
   "outputs": [
    {
     "data": {
      "text/plain": [
       "['Love Or Nothing',\n",
       " 'Those Were The Days',\n",
       " 'Just Be Good To Me',\n",
       " 'Bigger',\n",
       " 'Ann',\n",
       " 'Bridegroom',\n",
       " \"Can't Get You Out Of My Head (Soulwax Elektronic M\",\n",
       " 'Soften Your Heart',\n",
       " \"Look Who's Talking\",\n",
       " 'The Passion',\n",
       " 'Glad Tidings',\n",
       " \"I Can't Lie\",\n",
       " \"Love Is Teasin'\",\n",
       " 'Spell Of Desire',\n",
       " 'Ooh La La',\n",
       " 'How Can You Mend A Broken Heart',\n",
       " 'Pretty Girl Milking A Cow',\n",
       " 'To Live And Die In La',\n",
       " 'Piano Man',\n",
       " 'Fiesta De La Noche']"
      ]
     },
     "execution_count": 26,
     "metadata": {},
     "output_type": "execute_result"
    }
   ],
   "source": [
    "recommendation('Levitate')"
   ]
  },
  {
   "cell_type": "code",
   "execution_count": 27,
   "id": "ac11d9d2",
   "metadata": {},
   "outputs": [],
   "source": [
    "import pickle\n",
    "pickle.dump(similarity,open('similarity.pkl','wb'))\n",
    "pickle.dump(df,open('df.pkl', 'wb'))"
   ]
  },
  {
   "cell_type": "code",
   "execution_count": null,
   "id": "acdb73fb",
   "metadata": {},
   "outputs": [],
   "source": []
  }
 ],
 "metadata": {
  "kernelspec": {
   "display_name": "venv",
   "language": "python",
   "name": "python3"
  },
  "language_info": {
   "codemirror_mode": {
    "name": "ipython",
    "version": 3
   },
   "file_extension": ".py",
   "mimetype": "text/x-python",
   "name": "python",
   "nbconvert_exporter": "python",
   "pygments_lexer": "ipython3",
   "version": "3.12.3"
  }
 },
 "nbformat": 4,
 "nbformat_minor": 5
}
